{
 "cells": [
  {
   "cell_type": "code",
   "execution_count": null,
   "metadata": {},
   "outputs": [],
   "source": [
    "import os\n",
    "import SimpleITK as sitk\n",
    "for ct_file in os.listdir('/home/yanxin/sorted_data_16/test/input_stride_1_all/'):\n",
    "    \n",
    "    ct = sitk.ReadImage('/home/yanxin/sorted_data_16/test/input_stride_1_all/'+ct_file, sitk.sitkInt16)\n",
    "    ct_array = sitk.GetArrayFromImage(ct)\n",
    "    print(ct_array.min(),ct_array.max())\n",
    "#     print(ct_array.shape)\n",
    "\n",
    "# #     seg_file = ct_file.replace('volume', 'segmentation')\n",
    "#     seg = sitk.ReadImage('/home/yanxin/sorted_data_16/train/gt/', sitk.sitkInt16)\n",
    "#     seg_array = sitk.GetArrayFromImage(seg)"
   ]
  },
  {
   "cell_type": "code",
   "execution_count": null,
   "metadata": {},
   "outputs": [],
   "source": [
    "import os\n",
    "import SimpleITK as sitk\n",
    "# for ct_file in os.listdir('/home/yanxin/sorted_data_16/train/gt/'):\n",
    "    \n",
    "ct = sitk.ReadImage('/home/yanxin/data_ct/0Venous_tra_5mm_roi.nii', sitk.sitkInt16)\n",
    "ct_array = sitk.GetArrayFromImage(ct)\n",
    "print(ct_array.shape)"
   ]
  },
  {
   "cell_type": "code",
   "execution_count": null,
   "metadata": {},
   "outputs": [],
   "source": [
    "ct_array_list=[]"
   ]
  },
  {
   "cell_type": "code",
   "execution_count": null,
   "metadata": {},
   "outputs": [],
   "source": [
    "ct_array_list.append(ct_array[0:16, :, :])\n",
    "ct_array_list.append(ct_array[16:32, :, :])\n",
    "ct_array_list.append(ct_array[-16:, :, :])"
   ]
  },
  {
   "cell_type": "code",
   "execution_count": null,
   "metadata": {},
   "outputs": [],
   "source": [
    "import torch"
   ]
  },
  {
   "cell_type": "code",
   "execution_count": null,
   "metadata": {},
   "outputs": [],
   "source": [
    "for ct_array in ct_array_list:\n",
    "    ct_tensor = torch.FloatTensor(ct_array)\n",
    "    print(ct_tensor.shape)\n",
    "    ct_tensor = ct_tensor.unsqueeze(dim=0)\n",
    "    print(ct_tensor.shape)\n",
    "    ct_tensor = ct_tensor.unsqueeze(dim=0)\n",
    "    print(ct_tensor.shape)\n",
    "    ct_tensor = ct_tensor.squeeze()\n",
    "    print(ct_tensor.shape)"
   ]
  },
  {
   "cell_type": "code",
   "execution_count": null,
   "metadata": {},
   "outputs": [],
   "source": [
    "ct_array=np.zeros([16,256,256])"
   ]
  },
  {
   "cell_type": "code",
   "execution_count": null,
   "metadata": {},
   "outputs": [],
   "source": [
    "alist=[]\n",
    "alist.append(ct_array[2,:,:])\n",
    "alist.append(ct_array[3,:,:])"
   ]
  },
  {
   "cell_type": "code",
   "execution_count": null,
   "metadata": {},
   "outputs": [],
   "source": [
    "pred_seg = np.concatenate(alist, axis=0)"
   ]
  },
  {
   "cell_type": "code",
   "execution_count": null,
   "metadata": {},
   "outputs": [],
   "source": [
    "pred_seg.shape"
   ]
  },
  {
   "cell_type": "code",
   "execution_count": null,
   "metadata": {},
   "outputs": [],
   "source": [
    "aa=np.array(alist)"
   ]
  },
  {
   "cell_type": "code",
   "execution_count": null,
   "metadata": {},
   "outputs": [],
   "source": [
    "pred_seg = (np.array(alist)> 0).astype(np.int16)"
   ]
  },
  {
   "cell_type": "code",
   "execution_count": null,
   "metadata": {},
   "outputs": [],
   "source": [
    "pred_seg = np.concatenate(alist, axis=0)"
   ]
  },
  {
   "cell_type": "code",
   "execution_count": null,
   "metadata": {},
   "outputs": [],
   "source": [
    "import os\n",
    "import SimpleITK as sitk\n",
    "import matplotlib.pyplot as plt"
   ]
  },
  {
   "cell_type": "code",
   "execution_count": null,
   "metadata": {},
   "outputs": [],
   "source": [
    "for ct_slice in range(ct_array.shape[0]):\n",
    "    pred_slice=[]\n",
    "    for s in start_end_slice_list:\n",
    "        if ct_slice>=s[0] and ct_slice<=s[1]:\n",
    "            pred_slice.append(outputs_list[start_end_slice_list.index(s)][ct_slice-s[0],:,:])\n",
    "    pred_seg = np.concatenate(pred_slice, axis=0)"
   ]
  },
  {
   "cell_type": "code",
   "execution_count": null,
   "metadata": {},
   "outputs": [],
   "source": [
    "import os\n",
    "import SimpleITK as sitk\n",
    "import matplotlib.pyplot as plt\n",
    "for i in range(120, 150):\n",
    "    ct = sitk.ReadImage('/home/yanxin/data_ct/' + str(i) + 'Venous_tra_5mm.nii')\n",
    "    ct_array = sitk.GetArrayFromImage(ct)\n",
    "    plt.show[ct_array[0]]"
   ]
  },
  {
   "cell_type": "code",
   "execution_count": null,
   "metadata": {},
   "outputs": [],
   "source": [
    "def plot_v(index):\n",
    "    ct = sitk.ReadImage('/home/yanxin/data_ct/' + str(index) + 'Venous_tra_5mm.nii')\n",
    "    ct_array = sitk.GetArrayFromImage(ct)\n",
    "    ct_gt = sitk.ReadImage('/home/yanxin/data_ct/' + str(index) + 'Venous_tra_5mm_roi.nii')\n",
    "    ct_array_gt = sitk.GetArrayFromImage(ct_gt)\n",
    "    ct_pred = sitk.ReadImage('/home/yanxin/DenseV_net/pred/'+ str(index) + 'Venous_tra_5mm_pred.nii')\n",
    "    ct_array_pred = sitk.GetArrayFromImage(ct_pred)\n",
    "    # plt.figure(figsize=(8, 8))\n",
    "    print(ct_array.shape)\n",
    "    # for i in range(ct_array.shape[0]):\n",
    "    for i in range(38):\n",
    "        if ct_array_pred[i].max()==1 or ct_array_gt[i].max()==1:\n",
    "            plt.figure(figsize=(10, 10))\n",
    "#             plt.subplot(1,2,1)\n",
    "#             plt.imshow(ct_array[i],cmap='gray')\n",
    "#             plt.subplot(1,2,2)\n",
    "        #     plt.imshow(ct_array_gt[i],cmap='gray')\n",
    "        #     plt.subplot(1,4,3)\n",
    "        #     plt.imshow(ct_array_pred[i],cmap='gray')\n",
    "        #     plt.subplot(1,4,4)\n",
    "            plt.imshow(marked_roi(ct_array[i],ct_array_pred[i],ct_array_gt[i]))\n",
    "            plt.show()\n"
   ]
  },
  {
   "cell_type": "code",
   "execution_count": null,
   "metadata": {},
   "outputs": [],
   "source": [
    "plot_v(148)"
   ]
  },
  {
   "cell_type": "code",
   "execution_count": null,
   "metadata": {},
   "outputs": [],
   "source": [
    "from skimage import io, measure, draw,color\n",
    "import skimage\n",
    "# from parallel import parallel_process, agg_results\n",
    "from multiprocessing import Manager\n",
    "# from config import Config\n",
    "import nibabel as nib\n",
    "import matplotlib.pyplot as plt\n",
    "import numpy as np\n",
    "import SimpleITK as sitk\n",
    "def marked_roi(image, mask_pred,mask_gt):\n",
    "    _min = image.min()\n",
    "    _max = image.max()\n",
    "    image = (image - _min) / (_max - _min)\n",
    "    image = skimage.color.gray2rgb(image)\n",
    "    contour_gt = measure.find_contours(mask_gt, 0)\n",
    "    contour_pred = measure.find_contours(mask_pred, 0)\n",
    "#     print(len(contour_gt))\n",
    "#     print(len(contour_pred))\n",
    "    if len(contour_gt)==0 and len(contour_pred)==0:\n",
    "        return image\n",
    "    if len(contour_gt) >= 1:\n",
    "        for gt_lk in contour_gt:\n",
    "            contour_pixel_gt = (np.array([int(c[0]) for c in gt_lk]), np.array([int(c[1]) for c in gt_lk]))\n",
    "#             marked = image.copy()\n",
    "            image[contour_pixel_gt] = [1, 0, 0] # 目标是红\n",
    "    if len(contour_pred) >= 1:\n",
    "        for pred_lk in contour_pred:\n",
    "            contour_pixel_pred = (np.array([int(c[0]) for c in pred_lk]), np.array([int(c[1]) for c in pred_lk]))\n",
    "#             marked = marked.copy()\n",
    "            image[contour_pixel_pred] = [0, 0, 1]\n",
    "#         contour_pixel_pred = (np.array([int(c[0]) for c in contour_pred[0]]), np.array([int(c[1]) for c in contour_pred[0]]))\n",
    "#     print(len(contour_pixel))\n",
    "#         marked[contour_pixel_pred] = [1, 0, 0]\n",
    "    return image"
   ]
  },
  {
   "cell_type": "code",
   "execution_count": null,
   "metadata": {},
   "outputs": [],
   "source": []
  }
 ],
 "metadata": {
  "kernelspec": {
   "display_name": "Python 3",
   "language": "python",
   "name": "python3"
  },
  "language_info": {
   "codemirror_mode": {
    "name": "ipython",
    "version": 3
   },
   "file_extension": ".py",
   "mimetype": "text/x-python",
   "name": "python",
   "nbconvert_exporter": "python",
   "pygments_lexer": "ipython3",
   "version": "3.7.1"
  }
 },
 "nbformat": 4,
 "nbformat_minor": 2
}
